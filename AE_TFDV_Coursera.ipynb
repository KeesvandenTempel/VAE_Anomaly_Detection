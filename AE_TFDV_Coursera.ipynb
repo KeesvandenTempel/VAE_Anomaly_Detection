{
 "cells": [
  {
   "cell_type": "markdown",
   "metadata": {
    "id": "2V_OLlgtQ0DW"
   },
   "source": [
    "# Ungraded Lab: TFDV Exercise\n",
    "\n",
    "\n",
    "In this notebook, you will get to practice using [TensorFlow Data Validation (TFDV)](https://cloud.google.com/solutions/machine-learning/analyzing-and-validating-data-at-scale-for-ml-using-tfx), an open-source Python package from the [TensorFlow Extended (TFX)](https://www.tensorflow.org/tfx) ecosystem. \n",
    "\n",
    "TFDV helps to understand, validate, and monitor production machine learning data at scale. It provides insight into some key questions in the data analysis process such as:\n",
    "\n",
    "* What are the underlying statistics of my data?\n",
    "\n",
    "* What does my training dataset look like?\n",
    "\n",
    "* How does my evaluation and serving datasets compare to the training dataset?\n",
    "\n",
    "* How can I find and fix data anomalies?\n",
    "\n",
    "The figure below summarizes the usual TFDV workflow:\n",
    "\n",
    "<img src='img/tfdv.png' alt='picture of tfdv workflow'>\n",
    "\n",
    "As shown, you can use TFDV to compute descriptive statistics of the training data and generate a schema. You can then validate new datasets (e.g. the serving dataset from your customers) against this schema to detect and fix anomalies. This helps prevent the different types of skew. That way, you can be confident that your model is training on or predicting data that is consistent with the expected feature types and distribution.\n",
    "\n",
    "This ungraded exercise demonstrates useful functions of TFDV at an introductory level as preparation for this week's graded programming exercise. Specifically, you will:\n",
    "\n",
    "- **Generate and visualize statistics from a dataset**\n",
    "- **Detect and fix anomalies in an evaluation dataset**\n",
    "\n",
    "Let's begin!"
   ]
  },
  {
   "cell_type": "markdown",
   "metadata": {
    "id": "lyGr4CC8AUfu"
   },
   "source": [
    "## Package Installation and Imports"
   ]
  },
  {
   "cell_type": "code",
   "execution_count": 2,
   "metadata": {
    "id": "GHi-tkOeBOis"
   },
   "outputs": [
    {
     "name": "stdout",
     "output_type": "stream",
     "text": [
      "TFDV Version: 1.12.0\n",
      "Tensorflow Version: 2.11.0\n"
     ]
    }
   ],
   "source": [
    "import tensorflow as tf\n",
    "import tensorflow_data_validation as tfdv\n",
    "import pandas as pd\n",
    "\n",
    "from sklearn.model_selection import train_test_split\n",
    "from util import add_extra_rows\n",
    "\n",
    "from tensorflow_metadata.proto.v0 import schema_pb2\n",
    "\n",
    "print('TFDV Version: {}'.format(tfdv.__version__))\n",
    "print('Tensorflow Version: {}'.format(tf.__version__))"
   ]
  },
  {
   "cell_type": "markdown",
   "metadata": {
    "id": "Kzt9rO9eAGF-"
   },
   "source": [
    "## Download the dataset\n",
    "\n",
    "You will be working with the [Census Income Dataset](http://archive.ics.uci.edu/ml/datasets/Census+Income), a dataset that can be used to predict if an individual earns more than or less than 50k US Dollars annually. The summary of attribute names with descriptions/expected values is shown below and you can read more about it [in this data description file.](https://archive.ics.uci.edu/ml/machine-learning-databases/adult/adult.names)\n",
    "\n",
    "\n",
    "* **age**: continuous.\n",
    "* **workclass**: Private, Self-emp-not-inc, Self-emp-inc, Federal-gov, Local-gov, State-gov, Without-pay, Never-worked.\n",
    "* **fnlwgt**: continuous.\n",
    "* **education**: Bachelors, Some-college, 11th, HS-grad, Prof-school, Assoc-acdm, Assoc-voc, 9th, 7th-8th, 12th, Masters, 1st-4th, 10th, Doctorate, 5th-6th, Preschool.\n",
    "* **education-num**: continuous.\n",
    "* **marital-status**: Married-civ-spouse, Divorced, Never-married, Separated, Widowed, Married-spouse-absent, Married-AF-spouse.\n",
    "* **occupation**: Tech-support, Craft-repair, Other-service, Sales, Exec-managerial, Prof-specialty, Handlers-cleaners, Machine-op-inspct, Adm-clerical, Farming-fishing, Transport-moving, Priv-house-serv, Protective-serv, Armed-Forces.\n",
    "* **relationship**: Wife, Own-child, Husband, Not-in-family, Other-relative, Unmarried.\n",
    "* **race**: White, Asian-Pac-Islander, Amer-Indian-Eskimo, Other, Black.\n",
    "* **sex**: Female, Male.\n",
    "* **capital-gain**: continuous.\n",
    "* **capital-loss**: continuous.\n",
    "* **hours-per-week**: continuous.\n",
    "* **native-country**: United-States, Cambodia, England, Puerto-Rico, Canada, Germany, Outlying-US(Guam-USVI-etc), India, Japan, Greece, South, China, Cuba, Iran, Honduras, Philippines, Italy, Poland, Jamaica, Vietnam, Mexico, Portugal, Ireland, France, Dominican-Republic, Laos, Ecuador, Taiwan, Haiti, Columbia, Hungary, Guatemala, Nicaragua, Scotland, Thailand, Yugoslavia, El-Salvador, Trinadad&Tobago, Peru, Hong, Holand-Netherlands.\n",
    "\n",
    "Let's load the dataset and split it into training and evaluation sets. We will not shuffle them for consistent results in this demo notebook but you should otherwise in real projects."
   ]
  },
  {
   "cell_type": "code",
   "execution_count": 14,
   "metadata": {
    "id": "WKTfuT2rga-_"
   },
   "outputs": [],
   "source": [
    "# Read in the training and evaluation datasets\n",
    "df = pd.read_csv('data/Declaraties_autoencoder.csv', skipinitialspace=True)\n",
    "df.drop(['Unnamed: 0'], axis=1, inplace=True)\n",
    "\n",
    "# Split the dataset. Do not shuffle for this demo notebook.\n",
    "train_df, eval_df = train_test_split(df, test_size=0.2, shuffle=False)"
   ]
  },
  {
   "cell_type": "markdown",
   "metadata": {
    "id": "0RQvgiMRq0pn"
   },
   "source": [
    "Let's see the first few columns of the train and eval sets."
   ]
  },
  {
   "cell_type": "code",
   "execution_count": 15,
   "metadata": {
    "id": "uxDFD6dR0PYH"
   },
   "outputs": [
    {
     "data": {
      "text/html": [
       "<div>\n",
       "<style scoped>\n",
       "    .dataframe tbody tr th:only-of-type {\n",
       "        vertical-align: middle;\n",
       "    }\n",
       "\n",
       "    .dataframe tbody tr th {\n",
       "        vertical-align: top;\n",
       "    }\n",
       "\n",
       "    .dataframe thead th {\n",
       "        text-align: right;\n",
       "    }\n",
       "</style>\n",
       "<table border=\"1\" class=\"dataframe\">\n",
       "  <thead>\n",
       "    <tr style=\"text-align: right;\">\n",
       "      <th></th>\n",
       "      <th>DeclaratieId</th>\n",
       "      <th>ContractId</th>\n",
       "      <th>ContractStatusId</th>\n",
       "      <th>ClientId</th>\n",
       "      <th>ContractStartdatum</th>\n",
       "      <th>ContractEinddatum</th>\n",
       "      <th>Hoeveelheid</th>\n",
       "      <th>Levereenheid</th>\n",
       "      <th>Betaalfrequentie</th>\n",
       "      <th>Betaalmethode</th>\n",
       "      <th>...</th>\n",
       "      <th>__MeanProductDeclduur</th>\n",
       "      <th>__StdDevProductDeclduur</th>\n",
       "      <th>__MeanAanbiederDeclduur</th>\n",
       "      <th>__StdDevAanbiederDeclduur</th>\n",
       "      <th>__MeanClientDeclduur</th>\n",
       "      <th>__StdDevClientDeclduur</th>\n",
       "      <th>__EerdereDeclaraties</th>\n",
       "      <th>__Volgnummer</th>\n",
       "      <th>__EerdereDeclaratieduur</th>\n",
       "      <th>__KalenderMaand</th>\n",
       "    </tr>\n",
       "  </thead>\n",
       "  <tbody>\n",
       "    <tr>\n",
       "      <th>0</th>\n",
       "      <td>871535</td>\n",
       "      <td>62396</td>\n",
       "      <td>5800</td>\n",
       "      <td>39988</td>\n",
       "      <td>20140100000000</td>\n",
       "      <td>20150300000000</td>\n",
       "      <td>1</td>\n",
       "      <td>Stuks(output)</td>\n",
       "      <td>Jaarlijks</td>\n",
       "      <td>ZiN</td>\n",
       "      <td>...</td>\n",
       "      <td>122.027926</td>\n",
       "      <td>94.489270</td>\n",
       "      <td>61.526316</td>\n",
       "      <td>84.259439</td>\n",
       "      <td>241.5</td>\n",
       "      <td>258.093975</td>\n",
       "      <td>639.59</td>\n",
       "      <td>0</td>\n",
       "      <td>0</td>\n",
       "      <td>1</td>\n",
       "    </tr>\n",
       "    <tr>\n",
       "      <th>1</th>\n",
       "      <td>854325</td>\n",
       "      <td>73140</td>\n",
       "      <td>5800</td>\n",
       "      <td>42294</td>\n",
       "      <td>20140100000000</td>\n",
       "      <td>20150800000000</td>\n",
       "      <td>1</td>\n",
       "      <td>Stuks(output)</td>\n",
       "      <td>Jaarlijks</td>\n",
       "      <td>ZiN</td>\n",
       "      <td>...</td>\n",
       "      <td>39.725237</td>\n",
       "      <td>89.830317</td>\n",
       "      <td>230.000000</td>\n",
       "      <td>176.649370</td>\n",
       "      <td>546.0</td>\n",
       "      <td>0.000000</td>\n",
       "      <td>2148.88</td>\n",
       "      <td>0</td>\n",
       "      <td>0</td>\n",
       "      <td>2</td>\n",
       "    </tr>\n",
       "    <tr>\n",
       "      <th>2</th>\n",
       "      <td>855497</td>\n",
       "      <td>74113</td>\n",
       "      <td>5800</td>\n",
       "      <td>31884</td>\n",
       "      <td>20140200000000</td>\n",
       "      <td>20150300000000</td>\n",
       "      <td>1</td>\n",
       "      <td>Stuks(output)</td>\n",
       "      <td>Jaarlijks</td>\n",
       "      <td>ZiN</td>\n",
       "      <td>...</td>\n",
       "      <td>39.725237</td>\n",
       "      <td>89.830317</td>\n",
       "      <td>10.393821</td>\n",
       "      <td>38.889029</td>\n",
       "      <td>393.0</td>\n",
       "      <td>0.000000</td>\n",
       "      <td>1123.37</td>\n",
       "      <td>0</td>\n",
       "      <td>0</td>\n",
       "      <td>2</td>\n",
       "    </tr>\n",
       "    <tr>\n",
       "      <th>3</th>\n",
       "      <td>856639</td>\n",
       "      <td>73799</td>\n",
       "      <td>5800</td>\n",
       "      <td>42819</td>\n",
       "      <td>20140300000000</td>\n",
       "      <td>20150300000000</td>\n",
       "      <td>1</td>\n",
       "      <td>Stuks(output)</td>\n",
       "      <td>Jaarlijks</td>\n",
       "      <td>ZiN</td>\n",
       "      <td>...</td>\n",
       "      <td>106.251578</td>\n",
       "      <td>109.753764</td>\n",
       "      <td>50.866273</td>\n",
       "      <td>100.400597</td>\n",
       "      <td>85.2</td>\n",
       "      <td>158.627551</td>\n",
       "      <td>408.41</td>\n",
       "      <td>0</td>\n",
       "      <td>0</td>\n",
       "      <td>3</td>\n",
       "    </tr>\n",
       "    <tr>\n",
       "      <th>4</th>\n",
       "      <td>871537</td>\n",
       "      <td>62403</td>\n",
       "      <td>5800</td>\n",
       "      <td>39995</td>\n",
       "      <td>20140300000000</td>\n",
       "      <td>20150400000000</td>\n",
       "      <td>1</td>\n",
       "      <td>Stuks(output)</td>\n",
       "      <td>Jaarlijks</td>\n",
       "      <td>ZiN</td>\n",
       "      <td>...</td>\n",
       "      <td>106.251578</td>\n",
       "      <td>109.753764</td>\n",
       "      <td>61.526316</td>\n",
       "      <td>84.259439</td>\n",
       "      <td>99.0</td>\n",
       "      <td>198.000000</td>\n",
       "      <td>375.38</td>\n",
       "      <td>0</td>\n",
       "      <td>0</td>\n",
       "      <td>3</td>\n",
       "    </tr>\n",
       "  </tbody>\n",
       "</table>\n",
       "<p>5 rows × 52 columns</p>\n",
       "</div>"
      ],
      "text/plain": [
       "   DeclaratieId  ContractId  ContractStatusId  ClientId  ContractStartdatum  \\\n",
       "0        871535       62396              5800     39988      20140100000000   \n",
       "1        854325       73140              5800     42294      20140100000000   \n",
       "2        855497       74113              5800     31884      20140200000000   \n",
       "3        856639       73799              5800     42819      20140300000000   \n",
       "4        871537       62403              5800     39995      20140300000000   \n",
       "\n",
       "   ContractEinddatum  Hoeveelheid   Levereenheid Betaalfrequentie  \\\n",
       "0     20150300000000            1  Stuks(output)        Jaarlijks   \n",
       "1     20150800000000            1  Stuks(output)        Jaarlijks   \n",
       "2     20150300000000            1  Stuks(output)        Jaarlijks   \n",
       "3     20150300000000            1  Stuks(output)        Jaarlijks   \n",
       "4     20150400000000            1  Stuks(output)        Jaarlijks   \n",
       "\n",
       "  Betaalmethode  ... __MeanProductDeclduur  __StdDevProductDeclduur  \\\n",
       "0           ZiN  ...            122.027926                94.489270   \n",
       "1           ZiN  ...             39.725237                89.830317   \n",
       "2           ZiN  ...             39.725237                89.830317   \n",
       "3           ZiN  ...            106.251578               109.753764   \n",
       "4           ZiN  ...            106.251578               109.753764   \n",
       "\n",
       "   __MeanAanbiederDeclduur  __StdDevAanbiederDeclduur  __MeanClientDeclduur  \\\n",
       "0                61.526316                  84.259439                 241.5   \n",
       "1               230.000000                 176.649370                 546.0   \n",
       "2                10.393821                  38.889029                 393.0   \n",
       "3                50.866273                 100.400597                  85.2   \n",
       "4                61.526316                  84.259439                  99.0   \n",
       "\n",
       "   __StdDevClientDeclduur  __EerdereDeclaraties  __Volgnummer  \\\n",
       "0              258.093975                639.59             0   \n",
       "1                0.000000               2148.88             0   \n",
       "2                0.000000               1123.37             0   \n",
       "3              158.627551                408.41             0   \n",
       "4              198.000000                375.38             0   \n",
       "\n",
       "   __EerdereDeclaratieduur  __KalenderMaand  \n",
       "0                        0                1  \n",
       "1                        0                2  \n",
       "2                        0                2  \n",
       "3                        0                3  \n",
       "4                        0                3  \n",
       "\n",
       "[5 rows x 52 columns]"
      ]
     },
     "execution_count": 15,
     "metadata": {},
     "output_type": "execute_result"
    }
   ],
   "source": [
    "# Preview the train set\n",
    "train_df.head()"
   ]
  },
  {
   "cell_type": "code",
   "execution_count": 16,
   "metadata": {
    "id": "yyrmQLCm0a5V"
   },
   "outputs": [
    {
     "data": {
      "text/html": [
       "<div>\n",
       "<style scoped>\n",
       "    .dataframe tbody tr th:only-of-type {\n",
       "        vertical-align: middle;\n",
       "    }\n",
       "\n",
       "    .dataframe tbody tr th {\n",
       "        vertical-align: top;\n",
       "    }\n",
       "\n",
       "    .dataframe thead th {\n",
       "        text-align: right;\n",
       "    }\n",
       "</style>\n",
       "<table border=\"1\" class=\"dataframe\">\n",
       "  <thead>\n",
       "    <tr style=\"text-align: right;\">\n",
       "      <th></th>\n",
       "      <th>DeclaratieId</th>\n",
       "      <th>ContractId</th>\n",
       "      <th>ContractStatusId</th>\n",
       "      <th>ClientId</th>\n",
       "      <th>ContractStartdatum</th>\n",
       "      <th>ContractEinddatum</th>\n",
       "      <th>Hoeveelheid</th>\n",
       "      <th>Levereenheid</th>\n",
       "      <th>Betaalfrequentie</th>\n",
       "      <th>Betaalmethode</th>\n",
       "      <th>...</th>\n",
       "      <th>__MeanProductDeclduur</th>\n",
       "      <th>__StdDevProductDeclduur</th>\n",
       "      <th>__MeanAanbiederDeclduur</th>\n",
       "      <th>__StdDevAanbiederDeclduur</th>\n",
       "      <th>__MeanClientDeclduur</th>\n",
       "      <th>__StdDevClientDeclduur</th>\n",
       "      <th>__EerdereDeclaraties</th>\n",
       "      <th>__Volgnummer</th>\n",
       "      <th>__EerdereDeclaratieduur</th>\n",
       "      <th>__KalenderMaand</th>\n",
       "    </tr>\n",
       "  </thead>\n",
       "  <tbody>\n",
       "    <tr>\n",
       "      <th>492693</th>\n",
       "      <td>3454414</td>\n",
       "      <td>344688</td>\n",
       "      <td>5800</td>\n",
       "      <td>53526</td>\n",
       "      <td>20190700000000</td>\n",
       "      <td>20191200000000</td>\n",
       "      <td>7</td>\n",
       "      <td>Dag</td>\n",
       "      <td>Maandelijks</td>\n",
       "      <td>ZiN</td>\n",
       "      <td>...</td>\n",
       "      <td>6.065081</td>\n",
       "      <td>12.311523</td>\n",
       "      <td>3.861580</td>\n",
       "      <td>10.128027</td>\n",
       "      <td>18.014815</td>\n",
       "      <td>15.462996</td>\n",
       "      <td>502453.52</td>\n",
       "      <td>103</td>\n",
       "      <td>1826</td>\n",
       "      <td>12</td>\n",
       "    </tr>\n",
       "    <tr>\n",
       "      <th>492694</th>\n",
       "      <td>3454425</td>\n",
       "      <td>330399</td>\n",
       "      <td>5800</td>\n",
       "      <td>50306</td>\n",
       "      <td>20190300000000</td>\n",
       "      <td>20191200000000</td>\n",
       "      <td>7</td>\n",
       "      <td>Dag</td>\n",
       "      <td>Maandelijks</td>\n",
       "      <td>ZiN</td>\n",
       "      <td>...</td>\n",
       "      <td>6.065081</td>\n",
       "      <td>12.311523</td>\n",
       "      <td>3.861580</td>\n",
       "      <td>10.128027</td>\n",
       "      <td>6.831776</td>\n",
       "      <td>12.769721</td>\n",
       "      <td>51726.36</td>\n",
       "      <td>87</td>\n",
       "      <td>1795</td>\n",
       "      <td>12</td>\n",
       "    </tr>\n",
       "    <tr>\n",
       "      <th>492695</th>\n",
       "      <td>3454429</td>\n",
       "      <td>328208</td>\n",
       "      <td>5800</td>\n",
       "      <td>66698</td>\n",
       "      <td>20190200000000</td>\n",
       "      <td>20191200000000</td>\n",
       "      <td>7</td>\n",
       "      <td>Dag</td>\n",
       "      <td>Maandelijks</td>\n",
       "      <td>ZiN</td>\n",
       "      <td>...</td>\n",
       "      <td>6.065081</td>\n",
       "      <td>12.311523</td>\n",
       "      <td>3.861580</td>\n",
       "      <td>10.128027</td>\n",
       "      <td>4.166667</td>\n",
       "      <td>10.569307</td>\n",
       "      <td>46132.84</td>\n",
       "      <td>29</td>\n",
       "      <td>699</td>\n",
       "      <td>12</td>\n",
       "    </tr>\n",
       "    <tr>\n",
       "      <th>492696</th>\n",
       "      <td>3454358</td>\n",
       "      <td>355506</td>\n",
       "      <td>5800</td>\n",
       "      <td>73575</td>\n",
       "      <td>20191000000000</td>\n",
       "      <td>20191200000000</td>\n",
       "      <td>7</td>\n",
       "      <td>Dag</td>\n",
       "      <td>Maandelijks</td>\n",
       "      <td>ZiN</td>\n",
       "      <td>...</td>\n",
       "      <td>6.065081</td>\n",
       "      <td>12.311523</td>\n",
       "      <td>3.861580</td>\n",
       "      <td>10.128027</td>\n",
       "      <td>13.175676</td>\n",
       "      <td>15.204864</td>\n",
       "      <td>82802.96</td>\n",
       "      <td>45</td>\n",
       "      <td>668</td>\n",
       "      <td>12</td>\n",
       "    </tr>\n",
       "    <tr>\n",
       "      <th>492697</th>\n",
       "      <td>3553199</td>\n",
       "      <td>352381</td>\n",
       "      <td>5800</td>\n",
       "      <td>32083</td>\n",
       "      <td>20191000000000</td>\n",
       "      <td>20201000000000</td>\n",
       "      <td>1</td>\n",
       "      <td>Stuks(output)</td>\n",
       "      <td>Jaarlijks</td>\n",
       "      <td>ZiN</td>\n",
       "      <td>...</td>\n",
       "      <td>6.041243</td>\n",
       "      <td>12.399992</td>\n",
       "      <td>25.361736</td>\n",
       "      <td>11.395793</td>\n",
       "      <td>15.232932</td>\n",
       "      <td>15.700638</td>\n",
       "      <td>167174.80</td>\n",
       "      <td>210</td>\n",
       "      <td>1826</td>\n",
       "      <td>12</td>\n",
       "    </tr>\n",
       "  </tbody>\n",
       "</table>\n",
       "<p>5 rows × 52 columns</p>\n",
       "</div>"
      ],
      "text/plain": [
       "        DeclaratieId  ContractId  ContractStatusId  ClientId  \\\n",
       "492693       3454414      344688              5800     53526   \n",
       "492694       3454425      330399              5800     50306   \n",
       "492695       3454429      328208              5800     66698   \n",
       "492696       3454358      355506              5800     73575   \n",
       "492697       3553199      352381              5800     32083   \n",
       "\n",
       "        ContractStartdatum  ContractEinddatum  Hoeveelheid   Levereenheid  \\\n",
       "492693      20190700000000     20191200000000            7            Dag   \n",
       "492694      20190300000000     20191200000000            7            Dag   \n",
       "492695      20190200000000     20191200000000            7            Dag   \n",
       "492696      20191000000000     20191200000000            7            Dag   \n",
       "492697      20191000000000     20201000000000            1  Stuks(output)   \n",
       "\n",
       "       Betaalfrequentie Betaalmethode  ... __MeanProductDeclduur  \\\n",
       "492693      Maandelijks           ZiN  ...              6.065081   \n",
       "492694      Maandelijks           ZiN  ...              6.065081   \n",
       "492695      Maandelijks           ZiN  ...              6.065081   \n",
       "492696      Maandelijks           ZiN  ...              6.065081   \n",
       "492697        Jaarlijks           ZiN  ...              6.041243   \n",
       "\n",
       "        __StdDevProductDeclduur  __MeanAanbiederDeclduur  \\\n",
       "492693                12.311523                 3.861580   \n",
       "492694                12.311523                 3.861580   \n",
       "492695                12.311523                 3.861580   \n",
       "492696                12.311523                 3.861580   \n",
       "492697                12.399992                25.361736   \n",
       "\n",
       "        __StdDevAanbiederDeclduur  __MeanClientDeclduur  \\\n",
       "492693                  10.128027             18.014815   \n",
       "492694                  10.128027              6.831776   \n",
       "492695                  10.128027              4.166667   \n",
       "492696                  10.128027             13.175676   \n",
       "492697                  11.395793             15.232932   \n",
       "\n",
       "        __StdDevClientDeclduur  __EerdereDeclaraties  __Volgnummer  \\\n",
       "492693               15.462996             502453.52           103   \n",
       "492694               12.769721              51726.36            87   \n",
       "492695               10.569307              46132.84            29   \n",
       "492696               15.204864              82802.96            45   \n",
       "492697               15.700638             167174.80           210   \n",
       "\n",
       "        __EerdereDeclaratieduur  __KalenderMaand  \n",
       "492693                     1826               12  \n",
       "492694                     1795               12  \n",
       "492695                      699               12  \n",
       "492696                      668               12  \n",
       "492697                     1826               12  \n",
       "\n",
       "[5 rows x 52 columns]"
      ]
     },
     "execution_count": 16,
     "metadata": {},
     "output_type": "execute_result"
    }
   ],
   "source": [
    "# Preview the eval set\n",
    "eval_df.head()"
   ]
  },
  {
   "cell_type": "markdown",
   "metadata": {
    "id": "12_uIoIjr9lv"
   },
   "source": [
    "From these few columns, you can get a first impression of the data. You will notice that most are strings and integers. There are also columns that are mostly zeroes. In the next sections, you will see how to use TFDV to aggregate and process this information so you can inspect it more easily."
   ]
  },
  {
   "cell_type": "markdown",
   "metadata": {
    "id": "Duwwrsvf_9bK"
   },
   "source": [
    "## Generate and visualize training dataset statistics"
   ]
  },
  {
   "cell_type": "markdown",
   "metadata": {
    "id": "5Nm5E1HAgPU0"
   },
   "source": [
    "You can now compute and visualize the statistics of your training dataset. TFDV accepts three input formats: TensorFlow’s TFRecord, Pandas Dataframe, and CSV file. In this exercise, you will feed in the Pandas Dataframes you generated from the train-test split. \n",
    "\n",
    "You can compute your dataset statistics by using the [`generate_statistics_from_dataframe()`](https://www.tensorflow.org/tfx/data_validation/api_docs/python/tfdv/generate_statistics_from_dataframe) method. Under the hood, it distributes the analysis via [Apache Beam](https://beam.apache.org/) which allows it to scale over large datasets.\n",
    "\n",
    "The results returned by this step for numerical and categorical data are summarized in this table:\n",
    "\n",
    "| Numerical Data | Categorical Data   |\n",
    "|:-:|:-:|\n",
    "|Count of data records|Count of data records\n",
    "|% of missing data records|% of missing data records|\n",
    "|Mean, std, min, max|unique records|\n",
    "|% of zero values|Avg string length|\n"
   ]
  },
  {
   "cell_type": "code",
   "execution_count": 17,
   "metadata": {
    "id": "_vTx9Qkk4yGc"
   },
   "outputs": [],
   "source": [
    "# Generate training dataset statistics\n",
    "train_stats = tfdv.generate_statistics_from_dataframe(train_df)"
   ]
  },
  {
   "cell_type": "markdown",
   "metadata": {
    "id": "86nhDglwuilJ"
   },
   "source": [
    "Once you've generated the statistics, you can easily visualize your results with the [`visualize_statistics()`](https://www.tensorflow.org/tfx/data_validation/api_docs/python/tfdv/visualize_statistics) method. This shows a [Facets interface](https://pair-code.github.io/facets/) and is very useful to spot if you have a high amount of missing data or high standard deviation. Run the cell below and explore the different settings in the output interface (e.g. Sort by, Reverse order, Feature search)."
   ]
  },
  {
   "cell_type": "code",
   "execution_count": 18,
   "metadata": {
    "id": "1D1wP3mm5ebW",
    "scrolled": false
   },
   "outputs": [
    {
     "data": {
      "text/html": [
       "<iframe id='facets-iframe' width=\"100%\" height=\"500px\"></iframe>\n",
       "        <script>\n",
       "        facets_iframe = document.getElementById('facets-iframe');\n",
       "        facets_html = '<script src=\"https://cdnjs.cloudflare.com/ajax/libs/webcomponentsjs/1.3.3/webcomponents-lite.js\"><\\/script><link rel=\"import\" href=\"https://raw.githubusercontent.com/PAIR-code/facets/master/facets-dist/facets-jupyter.html\"><facets-overview proto-input=\"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\"></facets-overview>';\n",
       "        facets_iframe.srcdoc = facets_html;\n",
       "         facets_iframe.id = \"\";\n",
       "         setTimeout(() => {\n",
       "           facets_iframe.setAttribute('height', facets_iframe.contentWindow.document.body.offsetHeight + 'px')\n",
       "         }, 1500)\n",
       "         </script>"
      ],
      "text/plain": [
       "<IPython.core.display.HTML object>"
      ]
     },
     "metadata": {},
     "output_type": "display_data"
    }
   ],
   "source": [
    "# Visualize training dataset statistics\n",
    "tfdv.visualize_statistics(train_stats)"
   ]
  },
  {
   "cell_type": "markdown",
   "metadata": {
    "id": "DVQTOBpdgPU0"
   },
   "source": [
    "## Infer data schema"
   ]
  },
  {
   "cell_type": "markdown",
   "metadata": {
    "id": "Ya6ecHE9gPU1"
   },
   "source": [
    "Next step is to create a data schema to describe your train set. Simply put, a schema describes standard characteristics of your data such as column data types and expected data value range. The schema is created on a dataset that you consider as reference, and can be reused to validate other incoming datasets.\n",
    "\n",
    "With the computed statistics, TFDV allows you to automatically generate an initial version of the schema using the [`infer_schema()`](https://www.tensorflow.org/tfx/data_validation/api_docs/python/tfdv/infer_schema) method. This returns a Schema [protocol buffer](https://developers.google.com/protocol-buffers) containing the result. As mentioned in the [TFX paper](http://stevenwhang.com/tfx_paper.pdf) (Section 3.3), the results of the schema inference can be summarized as follows:\n",
    "\n",
    "* The expected type of each feature.\n",
    "* The expected presence of each feature, in terms of a minimum count and fraction of examples that must contain\n",
    "the feature.\n",
    "* The expected valency of the feature in each example, i.e.,\n",
    "minimum and maximum number of values.\n",
    "* The expected domain of a feature, i.e., the small universe of\n",
    "values for a string feature, or range for an integer feature.\n",
    "\n",
    "Run the cell below to infer the training dataset schema."
   ]
  },
  {
   "cell_type": "code",
   "execution_count": 19,
   "metadata": {
    "id": "W9skjM-M44Jz"
   },
   "outputs": [
    {
     "data": {
      "text/html": [
       "<div>\n",
       "<style scoped>\n",
       "    .dataframe tbody tr th:only-of-type {\n",
       "        vertical-align: middle;\n",
       "    }\n",
       "\n",
       "    .dataframe tbody tr th {\n",
       "        vertical-align: top;\n",
       "    }\n",
       "\n",
       "    .dataframe thead th {\n",
       "        text-align: right;\n",
       "    }\n",
       "</style>\n",
       "<table border=\"1\" class=\"dataframe\">\n",
       "  <thead>\n",
       "    <tr style=\"text-align: right;\">\n",
       "      <th></th>\n",
       "      <th>Type</th>\n",
       "      <th>Presence</th>\n",
       "      <th>Valency</th>\n",
       "      <th>Domain</th>\n",
       "    </tr>\n",
       "    <tr>\n",
       "      <th>Feature name</th>\n",
       "      <th></th>\n",
       "      <th></th>\n",
       "      <th></th>\n",
       "      <th></th>\n",
       "    </tr>\n",
       "  </thead>\n",
       "  <tbody>\n",
       "    <tr>\n",
       "      <th>'DeclaratieId'</th>\n",
       "      <td>INT</td>\n",
       "      <td>required</td>\n",
       "      <td></td>\n",
       "      <td>-</td>\n",
       "    </tr>\n",
       "    <tr>\n",
       "      <th>'ContractId'</th>\n",
       "      <td>INT</td>\n",
       "      <td>required</td>\n",
       "      <td></td>\n",
       "      <td>-</td>\n",
       "    </tr>\n",
       "    <tr>\n",
       "      <th>'ContractStatusId'</th>\n",
       "      <td>INT</td>\n",
       "      <td>required</td>\n",
       "      <td></td>\n",
       "      <td>-</td>\n",
       "    </tr>\n",
       "    <tr>\n",
       "      <th>'ClientId'</th>\n",
       "      <td>INT</td>\n",
       "      <td>required</td>\n",
       "      <td></td>\n",
       "      <td>-</td>\n",
       "    </tr>\n",
       "    <tr>\n",
       "      <th>'ContractStartdatum'</th>\n",
       "      <td>INT</td>\n",
       "      <td>required</td>\n",
       "      <td></td>\n",
       "      <td>-</td>\n",
       "    </tr>\n",
       "    <tr>\n",
       "      <th>'ContractEinddatum'</th>\n",
       "      <td>INT</td>\n",
       "      <td>required</td>\n",
       "      <td></td>\n",
       "      <td>-</td>\n",
       "    </tr>\n",
       "    <tr>\n",
       "      <th>'Hoeveelheid'</th>\n",
       "      <td>INT</td>\n",
       "      <td>required</td>\n",
       "      <td></td>\n",
       "      <td>-</td>\n",
       "    </tr>\n",
       "    <tr>\n",
       "      <th>'Levereenheid'</th>\n",
       "      <td>STRING</td>\n",
       "      <td>required</td>\n",
       "      <td></td>\n",
       "      <td>'Levereenheid'</td>\n",
       "    </tr>\n",
       "    <tr>\n",
       "      <th>'Betaalfrequentie'</th>\n",
       "      <td>STRING</td>\n",
       "      <td>required</td>\n",
       "      <td></td>\n",
       "      <td>'Betaalfrequentie'</td>\n",
       "    </tr>\n",
       "    <tr>\n",
       "      <th>'Betaalmethode'</th>\n",
       "      <td>STRING</td>\n",
       "      <td>required</td>\n",
       "      <td></td>\n",
       "      <td>'Betaalmethode'</td>\n",
       "    </tr>\n",
       "    <tr>\n",
       "      <th>'TypeContract'</th>\n",
       "      <td>STRING</td>\n",
       "      <td>required</td>\n",
       "      <td></td>\n",
       "      <td>'TypeContract'</td>\n",
       "    </tr>\n",
       "    <tr>\n",
       "      <th>'CommitmentId'</th>\n",
       "      <td>INT</td>\n",
       "      <td>required</td>\n",
       "      <td></td>\n",
       "      <td>-</td>\n",
       "    </tr>\n",
       "    <tr>\n",
       "      <th>'DeclaratieStatusId'</th>\n",
       "      <td>INT</td>\n",
       "      <td>required</td>\n",
       "      <td></td>\n",
       "      <td>-</td>\n",
       "    </tr>\n",
       "    <tr>\n",
       "      <th>'KalenderJaar'</th>\n",
       "      <td>INT</td>\n",
       "      <td>required</td>\n",
       "      <td></td>\n",
       "      <td>-</td>\n",
       "    </tr>\n",
       "    <tr>\n",
       "      <th>'Periodenummer'</th>\n",
       "      <td>INT</td>\n",
       "      <td>required</td>\n",
       "      <td></td>\n",
       "      <td>-</td>\n",
       "    </tr>\n",
       "    <tr>\n",
       "      <th>'BtwPercentage'</th>\n",
       "      <td>INT</td>\n",
       "      <td>required</td>\n",
       "      <td></td>\n",
       "      <td>-</td>\n",
       "    </tr>\n",
       "    <tr>\n",
       "      <th>'GedeclareerdeEenhedenOfBudget'</th>\n",
       "      <td>INT</td>\n",
       "      <td>required</td>\n",
       "      <td></td>\n",
       "      <td>-</td>\n",
       "    </tr>\n",
       "    <tr>\n",
       "      <th>'EenhedenDeler'</th>\n",
       "      <td>INT</td>\n",
       "      <td>required</td>\n",
       "      <td></td>\n",
       "      <td>-</td>\n",
       "    </tr>\n",
       "    <tr>\n",
       "      <th>'GedeclareerdeTariefExclBtw'</th>\n",
       "      <td>FLOAT</td>\n",
       "      <td>required</td>\n",
       "      <td></td>\n",
       "      <td>-</td>\n",
       "    </tr>\n",
       "    <tr>\n",
       "      <th>'GedeclareerdeKostenExclBtw'</th>\n",
       "      <td>FLOAT</td>\n",
       "      <td>required</td>\n",
       "      <td></td>\n",
       "      <td>-</td>\n",
       "    </tr>\n",
       "    <tr>\n",
       "      <th>'DatumVanDeclaratie'</th>\n",
       "      <td>INT</td>\n",
       "      <td>required</td>\n",
       "      <td></td>\n",
       "      <td>-</td>\n",
       "    </tr>\n",
       "    <tr>\n",
       "      <th>'Budgettype'</th>\n",
       "      <td>STRING</td>\n",
       "      <td>required</td>\n",
       "      <td></td>\n",
       "      <td>'Budgettype'</td>\n",
       "    </tr>\n",
       "    <tr>\n",
       "      <th>'RegioId'</th>\n",
       "      <td>INT</td>\n",
       "      <td>required</td>\n",
       "      <td></td>\n",
       "      <td>-</td>\n",
       "    </tr>\n",
       "    <tr>\n",
       "      <th>'GemeenteId'</th>\n",
       "      <td>INT</td>\n",
       "      <td>required</td>\n",
       "      <td></td>\n",
       "      <td>-</td>\n",
       "    </tr>\n",
       "    <tr>\n",
       "      <th>'ZorgsoortId'</th>\n",
       "      <td>INT</td>\n",
       "      <td>required</td>\n",
       "      <td></td>\n",
       "      <td>-</td>\n",
       "    </tr>\n",
       "    <tr>\n",
       "      <th>'TeamId'</th>\n",
       "      <td>INT</td>\n",
       "      <td>required</td>\n",
       "      <td></td>\n",
       "      <td>-</td>\n",
       "    </tr>\n",
       "    <tr>\n",
       "      <th>'LevereenheidId'</th>\n",
       "      <td>INT</td>\n",
       "      <td>required</td>\n",
       "      <td></td>\n",
       "      <td>-</td>\n",
       "    </tr>\n",
       "    <tr>\n",
       "      <th>'BudgettypeId'</th>\n",
       "      <td>FLOAT</td>\n",
       "      <td>required</td>\n",
       "      <td></td>\n",
       "      <td>-</td>\n",
       "    </tr>\n",
       "    <tr>\n",
       "      <th>'nProductID'</th>\n",
       "      <td>FLOAT</td>\n",
       "      <td>required</td>\n",
       "      <td></td>\n",
       "      <td>-</td>\n",
       "    </tr>\n",
       "    <tr>\n",
       "      <th>'nAanbiederID'</th>\n",
       "      <td>FLOAT</td>\n",
       "      <td>required</td>\n",
       "      <td></td>\n",
       "      <td>-</td>\n",
       "    </tr>\n",
       "    <tr>\n",
       "      <th>'__ContractDuur'</th>\n",
       "      <td>INT</td>\n",
       "      <td>required</td>\n",
       "      <td></td>\n",
       "      <td>-</td>\n",
       "    </tr>\n",
       "    <tr>\n",
       "      <th>'__MeanProductDecl'</th>\n",
       "      <td>FLOAT</td>\n",
       "      <td>required</td>\n",
       "      <td></td>\n",
       "      <td>-</td>\n",
       "    </tr>\n",
       "    <tr>\n",
       "      <th>'__StdDevProductDecl'</th>\n",
       "      <td>FLOAT</td>\n",
       "      <td>required</td>\n",
       "      <td></td>\n",
       "      <td>-</td>\n",
       "    </tr>\n",
       "    <tr>\n",
       "      <th>'__AantalProductDecl'</th>\n",
       "      <td>INT</td>\n",
       "      <td>required</td>\n",
       "      <td></td>\n",
       "      <td>-</td>\n",
       "    </tr>\n",
       "    <tr>\n",
       "      <th>'__MeanAanbiederDecl'</th>\n",
       "      <td>FLOAT</td>\n",
       "      <td>required</td>\n",
       "      <td></td>\n",
       "      <td>-</td>\n",
       "    </tr>\n",
       "    <tr>\n",
       "      <th>'__StdDevAanbiederDecl'</th>\n",
       "      <td>FLOAT</td>\n",
       "      <td>required</td>\n",
       "      <td></td>\n",
       "      <td>-</td>\n",
       "    </tr>\n",
       "    <tr>\n",
       "      <th>'__AantalAanbiederDecl'</th>\n",
       "      <td>INT</td>\n",
       "      <td>required</td>\n",
       "      <td></td>\n",
       "      <td>-</td>\n",
       "    </tr>\n",
       "    <tr>\n",
       "      <th>'__MeanProductHvlh'</th>\n",
       "      <td>FLOAT</td>\n",
       "      <td>required</td>\n",
       "      <td></td>\n",
       "      <td>-</td>\n",
       "    </tr>\n",
       "    <tr>\n",
       "      <th>'__StdDevProductHvlh'</th>\n",
       "      <td>FLOAT</td>\n",
       "      <td>required</td>\n",
       "      <td></td>\n",
       "      <td>-</td>\n",
       "    </tr>\n",
       "    <tr>\n",
       "      <th>'__MeanAanbiederHvlh'</th>\n",
       "      <td>FLOAT</td>\n",
       "      <td>required</td>\n",
       "      <td></td>\n",
       "      <td>-</td>\n",
       "    </tr>\n",
       "    <tr>\n",
       "      <th>'__StdDevAanbiederHvlh'</th>\n",
       "      <td>FLOAT</td>\n",
       "      <td>required</td>\n",
       "      <td></td>\n",
       "      <td>-</td>\n",
       "    </tr>\n",
       "    <tr>\n",
       "      <th>'__DeclaratiePeriode'</th>\n",
       "      <td>INT</td>\n",
       "      <td>required</td>\n",
       "      <td></td>\n",
       "      <td>-</td>\n",
       "    </tr>\n",
       "    <tr>\n",
       "      <th>'__MeanProductDeclduur'</th>\n",
       "      <td>FLOAT</td>\n",
       "      <td>required</td>\n",
       "      <td></td>\n",
       "      <td>-</td>\n",
       "    </tr>\n",
       "    <tr>\n",
       "      <th>'__StdDevProductDeclduur'</th>\n",
       "      <td>FLOAT</td>\n",
       "      <td>required</td>\n",
       "      <td></td>\n",
       "      <td>-</td>\n",
       "    </tr>\n",
       "    <tr>\n",
       "      <th>'__MeanAanbiederDeclduur'</th>\n",
       "      <td>FLOAT</td>\n",
       "      <td>required</td>\n",
       "      <td></td>\n",
       "      <td>-</td>\n",
       "    </tr>\n",
       "    <tr>\n",
       "      <th>'__StdDevAanbiederDeclduur'</th>\n",
       "      <td>FLOAT</td>\n",
       "      <td>required</td>\n",
       "      <td></td>\n",
       "      <td>-</td>\n",
       "    </tr>\n",
       "    <tr>\n",
       "      <th>'__MeanClientDeclduur'</th>\n",
       "      <td>FLOAT</td>\n",
       "      <td>required</td>\n",
       "      <td></td>\n",
       "      <td>-</td>\n",
       "    </tr>\n",
       "    <tr>\n",
       "      <th>'__StdDevClientDeclduur'</th>\n",
       "      <td>FLOAT</td>\n",
       "      <td>required</td>\n",
       "      <td></td>\n",
       "      <td>-</td>\n",
       "    </tr>\n",
       "    <tr>\n",
       "      <th>'__EerdereDeclaraties'</th>\n",
       "      <td>FLOAT</td>\n",
       "      <td>required</td>\n",
       "      <td></td>\n",
       "      <td>-</td>\n",
       "    </tr>\n",
       "    <tr>\n",
       "      <th>'__Volgnummer'</th>\n",
       "      <td>INT</td>\n",
       "      <td>required</td>\n",
       "      <td></td>\n",
       "      <td>-</td>\n",
       "    </tr>\n",
       "    <tr>\n",
       "      <th>'__EerdereDeclaratieduur'</th>\n",
       "      <td>INT</td>\n",
       "      <td>required</td>\n",
       "      <td></td>\n",
       "      <td>-</td>\n",
       "    </tr>\n",
       "    <tr>\n",
       "      <th>'__KalenderMaand'</th>\n",
       "      <td>INT</td>\n",
       "      <td>required</td>\n",
       "      <td></td>\n",
       "      <td>-</td>\n",
       "    </tr>\n",
       "    <tr>\n",
       "      <th>'__index_level_0__'</th>\n",
       "      <td>INT</td>\n",
       "      <td>required</td>\n",
       "      <td></td>\n",
       "      <td>-</td>\n",
       "    </tr>\n",
       "  </tbody>\n",
       "</table>\n",
       "</div>"
      ],
      "text/plain": [
       "                                   Type  Presence Valency              Domain\n",
       "Feature name                                                                 \n",
       "'DeclaratieId'                      INT  required                           -\n",
       "'ContractId'                        INT  required                           -\n",
       "'ContractStatusId'                  INT  required                           -\n",
       "'ClientId'                          INT  required                           -\n",
       "'ContractStartdatum'                INT  required                           -\n",
       "'ContractEinddatum'                 INT  required                           -\n",
       "'Hoeveelheid'                       INT  required                           -\n",
       "'Levereenheid'                   STRING  required              'Levereenheid'\n",
       "'Betaalfrequentie'               STRING  required          'Betaalfrequentie'\n",
       "'Betaalmethode'                  STRING  required             'Betaalmethode'\n",
       "'TypeContract'                   STRING  required              'TypeContract'\n",
       "'CommitmentId'                      INT  required                           -\n",
       "'DeclaratieStatusId'                INT  required                           -\n",
       "'KalenderJaar'                      INT  required                           -\n",
       "'Periodenummer'                     INT  required                           -\n",
       "'BtwPercentage'                     INT  required                           -\n",
       "'GedeclareerdeEenhedenOfBudget'     INT  required                           -\n",
       "'EenhedenDeler'                     INT  required                           -\n",
       "'GedeclareerdeTariefExclBtw'      FLOAT  required                           -\n",
       "'GedeclareerdeKostenExclBtw'      FLOAT  required                           -\n",
       "'DatumVanDeclaratie'                INT  required                           -\n",
       "'Budgettype'                     STRING  required                'Budgettype'\n",
       "'RegioId'                           INT  required                           -\n",
       "'GemeenteId'                        INT  required                           -\n",
       "'ZorgsoortId'                       INT  required                           -\n",
       "'TeamId'                            INT  required                           -\n",
       "'LevereenheidId'                    INT  required                           -\n",
       "'BudgettypeId'                    FLOAT  required                           -\n",
       "'nProductID'                      FLOAT  required                           -\n",
       "'nAanbiederID'                    FLOAT  required                           -\n",
       "'__ContractDuur'                    INT  required                           -\n",
       "'__MeanProductDecl'               FLOAT  required                           -\n",
       "'__StdDevProductDecl'             FLOAT  required                           -\n",
       "'__AantalProductDecl'               INT  required                           -\n",
       "'__MeanAanbiederDecl'             FLOAT  required                           -\n",
       "'__StdDevAanbiederDecl'           FLOAT  required                           -\n",
       "'__AantalAanbiederDecl'             INT  required                           -\n",
       "'__MeanProductHvlh'               FLOAT  required                           -\n",
       "'__StdDevProductHvlh'             FLOAT  required                           -\n",
       "'__MeanAanbiederHvlh'             FLOAT  required                           -\n",
       "'__StdDevAanbiederHvlh'           FLOAT  required                           -\n",
       "'__DeclaratiePeriode'               INT  required                           -\n",
       "'__MeanProductDeclduur'           FLOAT  required                           -\n",
       "'__StdDevProductDeclduur'         FLOAT  required                           -\n",
       "'__MeanAanbiederDeclduur'         FLOAT  required                           -\n",
       "'__StdDevAanbiederDeclduur'       FLOAT  required                           -\n",
       "'__MeanClientDeclduur'            FLOAT  required                           -\n",
       "'__StdDevClientDeclduur'          FLOAT  required                           -\n",
       "'__EerdereDeclaraties'            FLOAT  required                           -\n",
       "'__Volgnummer'                      INT  required                           -\n",
       "'__EerdereDeclaratieduur'           INT  required                           -\n",
       "'__KalenderMaand'                   INT  required                           -\n",
       "'__index_level_0__'                 INT  required                           -"
      ]
     },
     "metadata": {},
     "output_type": "display_data"
    },
    {
     "data": {
      "text/html": [
       "<div>\n",
       "<style scoped>\n",
       "    .dataframe tbody tr th:only-of-type {\n",
       "        vertical-align: middle;\n",
       "    }\n",
       "\n",
       "    .dataframe tbody tr th {\n",
       "        vertical-align: top;\n",
       "    }\n",
       "\n",
       "    .dataframe thead th {\n",
       "        text-align: right;\n",
       "    }\n",
       "</style>\n",
       "<table border=\"1\" class=\"dataframe\">\n",
       "  <thead>\n",
       "    <tr style=\"text-align: right;\">\n",
       "      <th></th>\n",
       "      <th>Values</th>\n",
       "    </tr>\n",
       "    <tr>\n",
       "      <th>Domain</th>\n",
       "      <th></th>\n",
       "    </tr>\n",
       "  </thead>\n",
       "  <tbody>\n",
       "    <tr>\n",
       "      <th>'Levereenheid'</th>\n",
       "      <td>'Budget', 'Dag', 'Dagdeel', 'Etmaal', 'Minuten', 'Stuks(output)'</td>\n",
       "    </tr>\n",
       "    <tr>\n",
       "      <th>'Betaalfrequentie'</th>\n",
       "      <td>'Eenmalig', 'Jaarlijks', 'Maandelijks', 'Per 4 weken'</td>\n",
       "    </tr>\n",
       "    <tr>\n",
       "      <th>'Betaalmethode'</th>\n",
       "      <td>'Losse betalingen', 'N.V.T.', 'ZiN'</td>\n",
       "    </tr>\n",
       "    <tr>\n",
       "      <th>'TypeContract'</th>\n",
       "      <td>'Algemeen'</td>\n",
       "    </tr>\n",
       "    <tr>\n",
       "      <th>'Budgettype'</th>\n",
       "      <td>'0', 'AWBZ', 'EED', 'GGZ', 'GI', 'J&amp;O', 'Jeugdwet', 'LTA', 'Pleegzorg', 'Vervoer'</td>\n",
       "    </tr>\n",
       "  </tbody>\n",
       "</table>\n",
       "</div>"
      ],
      "text/plain": [
       "                                                                                               Values\n",
       "Domain                                                                                               \n",
       "'Levereenheid'                       'Budget', 'Dag', 'Dagdeel', 'Etmaal', 'Minuten', 'Stuks(output)'\n",
       "'Betaalfrequentie'                              'Eenmalig', 'Jaarlijks', 'Maandelijks', 'Per 4 weken'\n",
       "'Betaalmethode'                                                   'Losse betalingen', 'N.V.T.', 'ZiN'\n",
       "'TypeContract'                                                                             'Algemeen'\n",
       "'Budgettype'        '0', 'AWBZ', 'EED', 'GGZ', 'GI', 'J&O', 'Jeugdwet', 'LTA', 'Pleegzorg', 'Vervoer'"
      ]
     },
     "metadata": {},
     "output_type": "display_data"
    }
   ],
   "source": [
    "# Infer schema from the computed statistics.\n",
    "schema = tfdv.infer_schema(statistics=train_stats)\n",
    "\n",
    "# Display the inferred schema\n",
    "tfdv.display_schema(schema)"
   ]
  },
  {
   "cell_type": "markdown",
   "metadata": {
    "id": "5oj_GIprgPU1"
   },
   "source": [
    "## Generate and visualize evaluation dataset statistics"
   ]
  },
  {
   "cell_type": "markdown",
   "metadata": {
    "id": "rTYMPukogPU1"
   },
   "source": [
    "The next step after generating the schema is to now look at the evaluation dataset. You will begin by computing its statistics then compare it with the training statistics. It is important that the numerical and categorical features of the evaluation data belongs roughly to the same range as the training data. Otherwise, you might have distribution skew that will negatively affect the accuracy of your model.\n",
    "\n",
    "TFDV allows you to generate both the training and evaluation dataset statistics side-by-side. You can use the [`visualize_statistics()`](https://www.tensorflow.org/tfx/data_validation/api_docs/python/tfdv/visualize_statistics) function and pass additional parameters to overlay the statistics from both datasets (referenced as left-hand side and right-hand side statistics). Let's see what these parameters are:\n",
    "\n",
    "- `lhs_statistics`: Required parameter. Expects an instance of `DatasetFeatureStatisticsList `.\n",
    "\n",
    "\n",
    "- `rhs_statistics`: Expects an instance of `DatasetFeatureStatisticsList ` to compare with `lhs_statistics`.\n",
    "\n",
    "\n",
    "- `lhs_name`: Name of the `lhs_statistics` dataset.\n",
    "\n",
    "\n",
    "- `rhs_name`: Name of the `rhs_statistics` dataset."
   ]
  },
  {
   "cell_type": "code",
   "execution_count": 20,
   "metadata": {
    "id": "bzZy1x3c6Mi0",
    "scrolled": false
   },
   "outputs": [
    {
     "data": {
      "text/html": [
       "<iframe id='facets-iframe' width=\"100%\" height=\"500px\"></iframe>\n",
       "        <script>\n",
       "        facets_iframe = document.getElementById('facets-iframe');\n",
       "        facets_html = '<script src=\"https://cdnjs.cloudflare.com/ajax/libs/webcomponentsjs/1.3.3/webcomponents-lite.js\"><\\/script><link rel=\"import\" href=\"https://raw.githubusercontent.com/PAIR-code/facets/master/facets-dist/facets-jupyter.html\"><facets-overview proto-input=\"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\"></facets-overview>';\n",
       "        facets_iframe.srcdoc = facets_html;\n",
       "         facets_iframe.id = \"\";\n",
       "         setTimeout(() => {\n",
       "           facets_iframe.setAttribute('height', facets_iframe.contentWindow.document.body.offsetHeight + 'px')\n",
       "         }, 1500)\n",
       "         </script>"
      ],
      "text/plain": [
       "<IPython.core.display.HTML object>"
      ]
     },
     "metadata": {},
     "output_type": "display_data"
    }
   ],
   "source": [
    "# Generate evaluation dataset statistics\n",
    "eval_stats = tfdv.generate_statistics_from_dataframe(eval_df)\n",
    "\n",
    "# Compare training with evaluation\n",
    "tfdv.visualize_statistics(\n",
    "    lhs_statistics=eval_stats, \n",
    "    rhs_statistics=train_stats, \n",
    "    lhs_name='EVAL_DATASET', \n",
    "    rhs_name='TRAIN_DATASET'\n",
    ")"
   ]
  },
  {
   "cell_type": "markdown",
   "metadata": {
    "id": "GODDgoHdgPU2"
   },
   "source": [
    "We encourage you to observe the results generated and toggle the menus to practice manipulating the visualization (e.g. sort by missing/zeroes). You'll notice that TFDV detects the malformed rows we introduced earlier. First, the `min` and `max` values of the `age` row shows `0` and `1000`, respectively. We know that those values do not make sense if we're talking about working adults. Secondly, the `workclass` row in the Categorical Features says that `0.02%` of the data is missing that particular attribute. Let's drop these rows to make the data more clean."
   ]
  },
  {
   "cell_type": "markdown",
   "metadata": {
    "id": "J3Lvnr-YgPU2"
   },
   "source": [
    "## Calculate and display evaluation anomalies"
   ]
  },
  {
   "cell_type": "markdown",
   "metadata": {
    "id": "D1D9bNcigPU2"
   },
   "source": [
    "You can use your reference schema to check for anomalies such as new values for a specific feature in the evaluation data. Detected anomalies can either be considered a real error that needs to be cleaned, or depending on your domain knowledge and the specific case, they can be accepted. \n",
    "\n",
    "Let's detect and display evaluation anomalies and see if there are any problems that need to be addressed."
   ]
  },
  {
   "cell_type": "code",
   "execution_count": 10,
   "metadata": {
    "id": "OR5dBqpW6ky2"
   },
   "outputs": [
    {
     "data": {
      "text/html": [
       "<h4 style=\"color:green;\">No anomalies found.</h4>"
      ],
      "text/plain": [
       "<IPython.core.display.HTML object>"
      ]
     },
     "metadata": {},
     "output_type": "display_data"
    }
   ],
   "source": [
    "# Check evaluation data for errors by validating the evaluation dataset statistics using the reference schema\n",
    "anomalies =  tfdv.validate_statistics(statistics=eval_stats, schema=schema)\n",
    "\n",
    "# Visualize anomalies\n",
    "tfdv.display_anomalies(anomalies)"
   ]
  },
  {
   "cell_type": "markdown",
   "metadata": {
    "id": "HeEvhvgqzLu-"
   },
   "source": [
    "## Revising the Schema\n",
    "\n",
    "As shown in the results above, TFDV is able to detect the remaining irregularities we introduced earlier. The short and long descriptions tell us what were detected. As expected, there are string values for `race`, `native-country` and `occupation` that are not found in the domain of the training set schema (you might see a different result if the shuffling of the datasets was applied). What you decide to do about the anomalies depend on your domain knowledge of the data. If an anomaly indicates a data error, then the underlying data should be fixed. Otherwise, you can update the schema to include the values in the evaluation dataset.\n",
    "\n",
    "TFDV provides a set of utility methods and parameters that you can use for revising the inferred schema. This [reference](https://www.tensorflow.org/tfx/data_validation/anomalies) lists down the type of anomalies and the parameters that you can edit but we'll focus only on a couple here.\n",
    "\n",
    "- You can relax the minimum fraction of values that must come from the domain of a particular feature (as described by `ENUM_TYPE_UNEXPECTED_STRING_VALUES` in the [reference](https://www.tensorflow.org/tfx/data_validation/anomalies)):\n",
    "\n",
    "```python\n",
    "tfdv.get_feature(schema, 'feature_column_name').distribution_constraints.min_domain_mass = <float: 0.0 to 1.0>\n",
    "```\n",
    "\n",
    "- You can add a new value to the domain of a particular feature:\n",
    "\n",
    "```python\n",
    "tfdv.get_domain(schema, 'feature_column_name').value.append('string')\n",
    "```\n",
    "\n",
    "Let's use these in the next section."
   ]
  },
  {
   "cell_type": "markdown",
   "metadata": {
    "id": "HKECg6Lf6-ks"
   },
   "source": [
    "## Fix anomalies in the schema\n",
    "\n",
    "Let's say that we want to accept the string anomalies reported as valid. If you want to tolerate a fraction of missing values from the evaluation dataset, you can do it like this:"
   ]
  },
  {
   "cell_type": "code",
   "execution_count": null,
   "metadata": {},
   "outputs": [],
   "source": [
    "# Relax the minimum fraction of values that must come from the domain for the feature `native-country`\n",
    "country_feature = tfdv.get_feature(schema, 'native-country')\n",
    "country_feature.distribution_constraints.min_domain_mass = 0.9\n",
    "\n",
    "# Relax the minimum fraction of values that must come from the domain for the feature `occupation`\n",
    "occupation_feature = tfdv.get_feature(schema, 'occupation')\n",
    "occupation_feature.distribution_constraints.min_domain_mass = 0.9"
   ]
  },
  {
   "cell_type": "markdown",
   "metadata": {},
   "source": [
    "If you want to be rigid and instead add only valid values to the domain, you can do it like this:"
   ]
  },
  {
   "cell_type": "code",
   "execution_count": null,
   "metadata": {
    "id": "hTCWS04p6lDh"
   },
   "outputs": [],
   "source": [
    "# Add new value to the domain of the feature `race`\n",
    "race_domain = tfdv.get_domain(schema, 'race')\n",
    "race_domain.value.append('Asian')"
   ]
  },
  {
   "cell_type": "markdown",
   "metadata": {},
   "source": [
    "In addition, you can also restrict the range of a numerical feature. This will let you know of invalid values without having to inspect it visually (e.g. the invalid `age` values earlier)."
   ]
  },
  {
   "cell_type": "code",
   "execution_count": null,
   "metadata": {},
   "outputs": [],
   "source": [
    "# Restrict the range of the `age` feature\n",
    "tfdv.set_domain(schema, 'age', schema_pb2.IntDomain(name='age', min=17, max=90))\n",
    "\n",
    "# Display the modified schema. Notice the `Domain` column of `age`.\n",
    "tfdv.display_schema(schema)"
   ]
  },
  {
   "cell_type": "markdown",
   "metadata": {},
   "source": [
    "With these revisions, running the validation should now show no anomalies."
   ]
  },
  {
   "cell_type": "code",
   "execution_count": null,
   "metadata": {},
   "outputs": [],
   "source": [
    "# Validate eval stats after updating the schema \n",
    "updated_anomalies = tfdv.validate_statistics(eval_stats, schema)\n",
    "tfdv.display_anomalies(updated_anomalies)"
   ]
  },
  {
   "cell_type": "markdown",
   "metadata": {},
   "source": [
    "## Examining dataset slices\n",
    "\n",
    "TFDV also allows you to analyze specific slices of your dataset. This is particularly useful if you want to inspect if a feature type is well-represented in your dataset. Let's walk through an example where we want to compare the statistics for male and female participants."
   ]
  },
  {
   "cell_type": "markdown",
   "metadata": {},
   "source": [
    "First, you will use the [`get_feature_value_slicer`](https://github.com/tensorflow/data-validation/blob/master/tensorflow_data_validation/utils/slicing_util.py#L48) method from the `slicing_util` to get the features you want to examine. You can specify that by passing a dictionary to the `features` argument. If you want to get the entire domain of a feature, then you can map the feature name with `None` as shown below. This means that you will get slices for both `Male` and `Female` entries. This returns a function that can be used to extract the said feature slice."
   ]
  },
  {
   "cell_type": "code",
   "execution_count": 11,
   "metadata": {},
   "outputs": [],
   "source": [
    "from tensorflow_data_validation.utils import slicing_util\n",
    "\n",
    "slice_fn = slicing_util.get_feature_value_slicer(features={'sex': None})"
   ]
  },
  {
   "cell_type": "markdown",
   "metadata": {},
   "source": [
    "With the slice function ready, you can now generate the statistics. You need to tell TFDV that you need statistics for the features you set and you can do that through the `slice_functions` argument of [`tfdv.StatsOptions`](https://www.tensorflow.org/tfx/data_validation/api_docs/python/tfdv/StatsOptions). Let's prepare that in the cell below. Notice that you also need to pass in the schema."
   ]
  },
  {
   "cell_type": "code",
   "execution_count": 12,
   "metadata": {},
   "outputs": [],
   "source": [
    "# Declare stats options\n",
    "slice_stats_options = tfdv.StatsOptions(schema=schema,\n",
    "                                        slice_functions=[slice_fn],\n",
    "                                        infer_type_from_schema=True)"
   ]
  },
  {
   "cell_type": "markdown",
   "metadata": {},
   "source": [
    "You will then pass these options to the `generate_statistics_from_csv()` method. As of writing, generating sliced statistics only works for CSVs so you will need to convert the Pandas dataframe to a CSV. Passing the `slice_stats_options` to `generate_statistics_from_dataframe()` will not produce the expected results."
   ]
  },
  {
   "cell_type": "code",
   "execution_count": 13,
   "metadata": {},
   "outputs": [
    {
     "name": "stderr",
     "output_type": "stream",
     "text": [
      "WARNING:apache_beam.runners.interactive.interactive_environment:Dependencies required for Interactive Beam PCollection visualization are not available, please use: `pip install apache-beam[interactive]` to install necessary dependencies to enable all data visualization features.\n"
     ]
    },
    {
     "data": {
      "application/javascript": [
       "\n",
       "        if (typeof window.interactive_beam_jquery == 'undefined') {\n",
       "          var jqueryScript = document.createElement('script');\n",
       "          jqueryScript.src = 'https://code.jquery.com/jquery-3.4.1.slim.min.js';\n",
       "          jqueryScript.type = 'text/javascript';\n",
       "          jqueryScript.onload = function() {\n",
       "            var datatableScript = document.createElement('script');\n",
       "            datatableScript.src = 'https://cdn.datatables.net/1.10.20/js/jquery.dataTables.min.js';\n",
       "            datatableScript.type = 'text/javascript';\n",
       "            datatableScript.onload = function() {\n",
       "              window.interactive_beam_jquery = jQuery.noConflict(true);\n",
       "              window.interactive_beam_jquery(document).ready(function($){\n",
       "                \n",
       "              });\n",
       "            }\n",
       "            document.head.appendChild(datatableScript);\n",
       "          };\n",
       "          document.head.appendChild(jqueryScript);\n",
       "        } else {\n",
       "          window.interactive_beam_jquery(document).ready(function($){\n",
       "            \n",
       "          });\n",
       "        }"
      ]
     },
     "metadata": {},
     "output_type": "display_data"
    },
    {
     "name": "stdout",
     "output_type": "stream",
     "text": [
      "WARNING:tensorflow:From C:\\Users\\kvdte\\AppData\\Roaming\\Python\\Python39\\site-packages\\tensorflow_data_validation\\utils\\statistics_io_impl.py:91: tf_record_iterator (from tensorflow.python.lib.io.tf_record) is deprecated and will be removed in a future version.\n",
      "Instructions for updating:\n",
      "Use eager execution and: \n",
      "`tf.data.TFRecordDataset(path)`\n"
     ]
    },
    {
     "name": "stderr",
     "output_type": "stream",
     "text": [
      "WARNING:tensorflow:From C:\\Users\\kvdte\\AppData\\Roaming\\Python\\Python39\\site-packages\\tensorflow_data_validation\\utils\\statistics_io_impl.py:91: tf_record_iterator (from tensorflow.python.lib.io.tf_record) is deprecated and will be removed in a future version.\n",
      "Instructions for updating:\n",
      "Use eager execution and: \n",
      "`tf.data.TFRecordDataset(path)`\n"
     ]
    }
   ],
   "source": [
    "# Convert dataframe to CSV since `slice_functions` works only with `tfdv.generate_statistics_from_csv`\n",
    "CSV_PATH = 'slice_sample.csv'\n",
    "train_df.to_csv(CSV_PATH)\n",
    "\n",
    "# Calculate statistics for the sliced dataset\n",
    "sliced_stats = tfdv.generate_statistics_from_csv(CSV_PATH, stats_options=slice_stats_options)"
   ]
  },
  {
   "cell_type": "markdown",
   "metadata": {},
   "source": [
    "With that, you now have the statistics for the set slice. These are packed into a `DatasetFeatureStatisticsList` protocol buffer. You can see the dataset names below. The first element in the list (i.e. index=0) is named `All_Examples` which just contains the statistics for the entire dataset. The next two elements (i.e. named `sex_Male` and `sex_Female`) are the datasets that contain the stats for the slices. It is important to note that these datasets are of the type: `DatasetFeatureStatistics`. You will see why this is important after the cell below."
   ]
  },
  {
   "cell_type": "code",
   "execution_count": 14,
   "metadata": {},
   "outputs": [
    {
     "name": "stdout",
     "output_type": "stream",
     "text": [
      "Datasets generated: ['All Examples']\n",
      "Type of sliced_stats elements: <class 'tensorflow_metadata.proto.v0.statistics_pb2.DatasetFeatureStatistics'>\n"
     ]
    }
   ],
   "source": [
    "print(f'Datasets generated: {[sliced.name for sliced in sliced_stats.datasets]}')\n",
    "\n",
    "print(f'Type of sliced_stats elements: {type(sliced_stats.datasets[0])}')"
   ]
  },
  {
   "cell_type": "markdown",
   "metadata": {},
   "source": [
    "You can then visualize the statistics as before to examine the slices. An important caveat is `visualize_statistics()` accepts a `DatasetFeatureStatisticsList` type instead of `DatasetFeatureStatistics`. Thus, at least for this version of TFDV, you will need to convert it to the correct type."
   ]
  },
  {
   "cell_type": "code",
   "execution_count": 15,
   "metadata": {},
   "outputs": [
    {
     "ename": "IndexError",
     "evalue": "list index (1) out of range",
     "output_type": "error",
     "traceback": [
      "\u001b[1;31m---------------------------------------------------------------------------\u001b[0m",
      "\u001b[1;31mIndexError\u001b[0m                                Traceback (most recent call last)",
      "\u001b[1;32m~\\AppData\\Local\\Temp\\ipykernel_15928\\2187414053.py\u001b[0m in \u001b[0;36m<module>\u001b[1;34m\u001b[0m\n\u001b[0;32m      3\u001b[0m \u001b[1;31m# Convert `Male` statistics (index=1) to the correct type and get the dataset name\u001b[0m\u001b[1;33m\u001b[0m\u001b[1;33m\u001b[0m\u001b[0m\n\u001b[0;32m      4\u001b[0m \u001b[0mmale_stats_list\u001b[0m \u001b[1;33m=\u001b[0m \u001b[0mDatasetFeatureStatisticsList\u001b[0m\u001b[1;33m(\u001b[0m\u001b[1;33m)\u001b[0m\u001b[1;33m\u001b[0m\u001b[1;33m\u001b[0m\u001b[0m\n\u001b[1;32m----> 5\u001b[1;33m \u001b[0mmale_stats_list\u001b[0m\u001b[1;33m.\u001b[0m\u001b[0mdatasets\u001b[0m\u001b[1;33m.\u001b[0m\u001b[0mextend\u001b[0m\u001b[1;33m(\u001b[0m\u001b[1;33m[\u001b[0m\u001b[0msliced_stats\u001b[0m\u001b[1;33m.\u001b[0m\u001b[0mdatasets\u001b[0m\u001b[1;33m[\u001b[0m\u001b[1;36m1\u001b[0m\u001b[1;33m]\u001b[0m\u001b[1;33m]\u001b[0m\u001b[1;33m)\u001b[0m\u001b[1;33m\u001b[0m\u001b[1;33m\u001b[0m\u001b[0m\n\u001b[0m\u001b[0;32m      6\u001b[0m \u001b[0mmale_stats_name\u001b[0m \u001b[1;33m=\u001b[0m \u001b[0msliced_stats\u001b[0m\u001b[1;33m.\u001b[0m\u001b[0mdatasets\u001b[0m\u001b[1;33m[\u001b[0m\u001b[1;36m1\u001b[0m\u001b[1;33m]\u001b[0m\u001b[1;33m.\u001b[0m\u001b[0mname\u001b[0m\u001b[1;33m\u001b[0m\u001b[1;33m\u001b[0m\u001b[0m\n\u001b[0;32m      7\u001b[0m \u001b[1;33m\u001b[0m\u001b[0m\n",
      "\u001b[1;31mIndexError\u001b[0m: list index (1) out of range"
     ]
    }
   ],
   "source": [
    "from tensorflow_metadata.proto.v0.statistics_pb2 import DatasetFeatureStatisticsList\n",
    "\n",
    "# Convert `Male` statistics (index=1) to the correct type and get the dataset name\n",
    "male_stats_list = DatasetFeatureStatisticsList()\n",
    "male_stats_list.datasets.extend([sliced_stats.datasets[1]])\n",
    "male_stats_name = sliced_stats.datasets[1].name\n",
    "\n",
    "# Convert `Female` statistics (index=2) to the correct type and get the dataset name\n",
    "female_stats_list = DatasetFeatureStatisticsList()\n",
    "female_stats_list.datasets.extend([sliced_stats.datasets[2]])\n",
    "female_stats_name = sliced_stats.datasets[2].name\n",
    "\n",
    "# Visualize the two slices side by side\n",
    "tfdv.visualize_statistics(\n",
    "    lhs_statistics=male_stats_list,\n",
    "    rhs_statistics=female_stats_list,\n",
    "    lhs_name=male_stats_name,\n",
    "    rhs_name=female_stats_name\n",
    ")"
   ]
  },
  {
   "cell_type": "markdown",
   "metadata": {},
   "source": [
    "You should now see the visualization of the two slices and you can compare how they are represented in the dataset. \n",
    "\n",
    "We encourage you to go back to the beginning of this section and try different slices. Here are other ways you can explore:\n",
    "\n",
    "* If you want to be more specific, then you can map the specific value to the feature name. For example, if you want just `Male`, then you can declare it as `features={'sex': [b'Male']}`. Notice that the string literal needs to be passed in as bytes with the `b'` prefix.\n",
    "\n",
    "* You can also pass in several features if you want. For example, if you want to slice through both the `sex` and `race` features, then you can do `features={'sex': None, 'race': None}`.\n",
    "\n",
    "You might find it cumbersome or inefficient to redo the whole process for a particular slice. For that, you can make helper functions to streamline the type conversions and you will see one implementation in this week's assignment."
   ]
  },
  {
   "cell_type": "markdown",
   "metadata": {
    "id": "YY812jDDgPU3"
   },
   "source": [
    "## Wrap up\n",
    "\n",
    "This exercise demonstrated how you would use Tensorflow Data Validation in a machine learning project.\n",
    "\n",
    "* It allows you to scale the computation of statistics over datasets.\n",
    "\n",
    "* You can infer the schema of a given dataset and revise it based on your domain knowledge. \n",
    "\n",
    "* You can inspect discrepancies between the training and evaluation datasets by visualizing the statistics and detecting anomalies.\n",
    "\n",
    "* You can analyze specific slices of your dataset.\n",
    "\n",
    "You can consult this notebook in this week's programming assignment as well as these additional resources:\n",
    "\n",
    "* [TFDV Guide](https://www.tensorflow.org/tfx/data_validation/get_started) \n",
    "* [TFDV blog post](https://blog.tensorflow.org/2018/09/introducing-tensorflow-data-validation.html)\n",
    "* [Tensorflow Official Tutorial](https://colab.research.google.com/github/tensorflow/tfx/blob/master/docs/tutorials/data_validation/tfdv_basic.ipynb#scrollTo=mPt5BHTwy_0F)\n",
    "* [API Docs](https://www.tensorflow.org/tfx/data_validation/api_docs/python/tfdv)"
   ]
  }
 ],
 "metadata": {
  "colab": {
   "collapsed_sections": [],
   "name": "C2_W1_Lab_1_TFDV_Exercise.ipynb",
   "provenance": []
  },
  "kernelspec": {
   "display_name": "Python 3 (ipykernel)",
   "language": "python",
   "name": "python3"
  },
  "language_info": {
   "codemirror_mode": {
    "name": "ipython",
    "version": 3
   },
   "file_extension": ".py",
   "mimetype": "text/x-python",
   "name": "python",
   "nbconvert_exporter": "python",
   "pygments_lexer": "ipython3",
   "version": "3.9.13"
  }
 },
 "nbformat": 4,
 "nbformat_minor": 1
}
